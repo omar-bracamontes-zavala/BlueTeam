{
 "cells": [
  {
   "cell_type": "code",
   "execution_count": 1,
   "metadata": {},
   "outputs": [
    {
     "data": {
      "text/html": [
       "<div>\n",
       "<style scoped>\n",
       "    .dataframe tbody tr th:only-of-type {\n",
       "        vertical-align: middle;\n",
       "    }\n",
       "\n",
       "    .dataframe tbody tr th {\n",
       "        vertical-align: top;\n",
       "    }\n",
       "\n",
       "    .dataframe thead th {\n",
       "        text-align: right;\n",
       "    }\n",
       "</style>\n",
       "<table border=\"1\" class=\"dataframe\">\n",
       "  <thead>\n",
       "    <tr style=\"text-align: right;\">\n",
       "      <th></th>\n",
       "      <th>word</th>\n",
       "      <th>frequency</th>\n",
       "      <th>sentiment</th>\n",
       "    </tr>\n",
       "  </thead>\n",
       "  <tbody>\n",
       "    <tr>\n",
       "      <th>0</th>\n",
       "      <td>online</td>\n",
       "      <td>905</td>\n",
       "      <td>0.0</td>\n",
       "    </tr>\n",
       "    <tr>\n",
       "      <th>1</th>\n",
       "      <td>many</td>\n",
       "      <td>332</td>\n",
       "      <td>0.0</td>\n",
       "    </tr>\n",
       "    <tr>\n",
       "      <th>2</th>\n",
       "      <td>good</td>\n",
       "      <td>319</td>\n",
       "      <td>5.0</td>\n",
       "    </tr>\n",
       "    <tr>\n",
       "      <th>3</th>\n",
       "      <td>n</td>\n",
       "      <td>207</td>\n",
       "      <td>0.0</td>\n",
       "    </tr>\n",
       "    <tr>\n",
       "      <th>4</th>\n",
       "      <td>clear</td>\n",
       "      <td>200</td>\n",
       "      <td>0.0</td>\n",
       "    </tr>\n",
       "  </tbody>\n",
       "</table>\n",
       "</div>"
      ],
      "text/plain": [
       "     word  frequency  sentiment\n",
       "0  online        905        0.0\n",
       "1    many        332        0.0\n",
       "2    good        319        5.0\n",
       "3       n        207        0.0\n",
       "4   clear        200        0.0"
      ]
     },
     "execution_count": 1,
     "metadata": {},
     "output_type": "execute_result"
    }
   ],
   "source": [
    "import pandas as pd\n",
    "\n",
    "adj_en = pd.read_csv(\"datasets/adjs_en.csv\")\n",
    "df = pd.read_csv(\"datasets/dataset_oficial_adj_nouns.csv\")\n",
    "df.fillna('', inplace=True)\n",
    "adj_en.head()"
   ]
  },
  {
   "cell_type": "code",
   "execution_count": 2,
   "metadata": {},
   "outputs": [
    {
     "data": {
      "text/plain": [
       "0.0    1425\n",
       "1.0     914\n",
       "3.0     755\n",
       "2.0      10\n",
       "Name: missing_info_sentiment, dtype: int64"
      ]
     },
     "execution_count": 2,
     "metadata": {},
     "output_type": "execute_result"
    }
   ],
   "source": [
    "## Correct manual input mistakes\n",
    "for i in range(df.shape[0]):\n",
    "    if len((df.loc[i, \"missing_info\"]).strip()) == 0:\n",
    "        df.loc[i, \"missing_info_sentiment\"] = 3\n",
    "    if len((df.loc[i, \"improvements\"]).strip()) == 0:\n",
    "        df.loc[i, \"improvements_sentiment\"] = 3\n",
    "df[\"missing_info_sentiment\"].value_counts()"
   ]
  },
  {
   "cell_type": "code",
   "execution_count": 3,
   "metadata": {},
   "outputs": [],
   "source": [
    "adj_en_sentiment = dict(zip(adj_en[\"word\"], adj_en[\"sentiment\"]))"
   ]
  },
  {
   "cell_type": "code",
   "execution_count": 4,
   "metadata": {},
   "outputs": [],
   "source": [
    "def calculate_sentiment(adjectives):\n",
    "    sentiment_score = 0\n",
    "    for adj in adjectives.split():\n",
    "        if adj in adj_en_sentiment.keys():\n",
    "            sentiment_score += adj_en_sentiment[adj]\n",
    "    return sentiment_score"
   ]
  },
  {
   "cell_type": "code",
   "execution_count": 5,
   "metadata": {},
   "outputs": [],
   "source": [
    "df.loc[:, \"missing_info_en_adj_score\"] = df[\"missing_info_en_adj\"].apply(lambda x: calculate_sentiment(x))\n",
    "df.loc[:, \"improvements_en_adj_score\"] = df[\"improvements_en_adj\"].apply(lambda x: calculate_sentiment(x))"
   ]
  },
  {
   "cell_type": "code",
   "execution_count": 6,
   "metadata": {},
   "outputs": [],
   "source": [
    "def classify_sentiment(n_del, p_del, sent_score):\n",
    "    \"\"\"Function that classifies a sentiment score into one of three categories: 0 (negative), 1 (neutral), 2 (positive)\"\"\"\n",
    "    if sent_score == 1000:\n",
    "        return 3\n",
    "    elif sent_score < n_del:\n",
    "        return 0\n",
    "    elif sent_score > p_del:\n",
    "        return 2\n",
    "    else:\n",
    "        return 1"
   ]
  },
  {
   "cell_type": "code",
   "execution_count": 7,
   "metadata": {},
   "outputs": [],
   "source": [
    "from itertools import combinations\n",
    "\n",
    "# All possible combinations for delimiters\n",
    "digits = list(range(-10, 10, 1))\n",
    "digits.remove(0)\n",
    "\n",
    "delimiters = list(combinations(digits, 2))"
   ]
  },
  {
   "cell_type": "code",
   "execution_count": 8,
   "metadata": {},
   "outputs": [
    {
     "data": {
      "text/plain": [
       "(-5, 7)"
      ]
     },
     "execution_count": 8,
     "metadata": {},
     "output_type": "execute_result"
    }
   ],
   "source": [
    "delimiters_comb = delimiters[90]\n",
    "delimiters_comb"
   ]
  },
  {
   "cell_type": "code",
   "execution_count": 9,
   "metadata": {},
   "outputs": [
    {
     "data": {
      "text/plain": [
       "Index(['poll_id', 'token', 'institution', 'is_info_useful', 'is_info_missing',\n",
       "       'missing_info', 'improvements', 'date', 'missing_info_sentiment',\n",
       "       'improvements_sentiment', 'missing_info_en', 'improvements_en',\n",
       "       'missing_info_adj', 'improvements_adj', 'missing_info_noun_adj',\n",
       "       'improvements_noun_adj', 'missing_info_en_adj', 'improvements_en_adj',\n",
       "       'missing_info_en_noun_adj', 'improvements_en_noun_adj',\n",
       "       'missing_info_en_adj_score', 'improvements_en_adj_score'],\n",
       "      dtype='object')"
      ]
     },
     "execution_count": 9,
     "metadata": {},
     "output_type": "execute_result"
    }
   ],
   "source": [
    "df.columns"
   ]
  },
  {
   "cell_type": "code",
   "execution_count": 10,
   "metadata": {},
   "outputs": [
    {
     "data": {
      "text/html": [
       "<div>\n",
       "<style scoped>\n",
       "    .dataframe tbody tr th:only-of-type {\n",
       "        vertical-align: middle;\n",
       "    }\n",
       "\n",
       "    .dataframe tbody tr th {\n",
       "        vertical-align: top;\n",
       "    }\n",
       "\n",
       "    .dataframe thead th {\n",
       "        text-align: right;\n",
       "    }\n",
       "</style>\n",
       "<table border=\"1\" class=\"dataframe\">\n",
       "  <thead>\n",
       "    <tr style=\"text-align: right;\">\n",
       "      <th></th>\n",
       "      <th>missing_info_sentiment</th>\n",
       "      <th>improvements_sentiment</th>\n",
       "      <th>missing_info_en_adj_sentiment</th>\n",
       "      <th>improvements_en_adj_sentiment</th>\n",
       "    </tr>\n",
       "  </thead>\n",
       "  <tbody>\n",
       "    <tr>\n",
       "      <th>0</th>\n",
       "      <td>3.0</td>\n",
       "      <td>1</td>\n",
       "      <td>1</td>\n",
       "      <td>1</td>\n",
       "    </tr>\n",
       "    <tr>\n",
       "      <th>1</th>\n",
       "      <td>1.0</td>\n",
       "      <td>1</td>\n",
       "      <td>0</td>\n",
       "      <td>1</td>\n",
       "    </tr>\n",
       "    <tr>\n",
       "      <th>2</th>\n",
       "      <td>0.0</td>\n",
       "      <td>1</td>\n",
       "      <td>1</td>\n",
       "      <td>1</td>\n",
       "    </tr>\n",
       "    <tr>\n",
       "      <th>3</th>\n",
       "      <td>3.0</td>\n",
       "      <td>2</td>\n",
       "      <td>1</td>\n",
       "      <td>1</td>\n",
       "    </tr>\n",
       "    <tr>\n",
       "      <th>4</th>\n",
       "      <td>0.0</td>\n",
       "      <td>1</td>\n",
       "      <td>1</td>\n",
       "      <td>1</td>\n",
       "    </tr>\n",
       "    <tr>\n",
       "      <th>5</th>\n",
       "      <td>3.0</td>\n",
       "      <td>1</td>\n",
       "      <td>1</td>\n",
       "      <td>1</td>\n",
       "    </tr>\n",
       "    <tr>\n",
       "      <th>6</th>\n",
       "      <td>1.0</td>\n",
       "      <td>0</td>\n",
       "      <td>1</td>\n",
       "      <td>1</td>\n",
       "    </tr>\n",
       "    <tr>\n",
       "      <th>7</th>\n",
       "      <td>1.0</td>\n",
       "      <td>1</td>\n",
       "      <td>1</td>\n",
       "      <td>1</td>\n",
       "    </tr>\n",
       "    <tr>\n",
       "      <th>8</th>\n",
       "      <td>3.0</td>\n",
       "      <td>0</td>\n",
       "      <td>1</td>\n",
       "      <td>1</td>\n",
       "    </tr>\n",
       "    <tr>\n",
       "      <th>9</th>\n",
       "      <td>1.0</td>\n",
       "      <td>1</td>\n",
       "      <td>1</td>\n",
       "      <td>1</td>\n",
       "    </tr>\n",
       "    <tr>\n",
       "      <th>10</th>\n",
       "      <td>1.0</td>\n",
       "      <td>1</td>\n",
       "      <td>1</td>\n",
       "      <td>1</td>\n",
       "    </tr>\n",
       "    <tr>\n",
       "      <th>11</th>\n",
       "      <td>0.0</td>\n",
       "      <td>0</td>\n",
       "      <td>1</td>\n",
       "      <td>1</td>\n",
       "    </tr>\n",
       "    <tr>\n",
       "      <th>12</th>\n",
       "      <td>3.0</td>\n",
       "      <td>0</td>\n",
       "      <td>1</td>\n",
       "      <td>0</td>\n",
       "    </tr>\n",
       "    <tr>\n",
       "      <th>13</th>\n",
       "      <td>3.0</td>\n",
       "      <td>0</td>\n",
       "      <td>1</td>\n",
       "      <td>1</td>\n",
       "    </tr>\n",
       "    <tr>\n",
       "      <th>14</th>\n",
       "      <td>0.0</td>\n",
       "      <td>0</td>\n",
       "      <td>1</td>\n",
       "      <td>1</td>\n",
       "    </tr>\n",
       "  </tbody>\n",
       "</table>\n",
       "</div>"
      ],
      "text/plain": [
       "    missing_info_sentiment  improvements_sentiment  \\\n",
       "0                      3.0                       1   \n",
       "1                      1.0                       1   \n",
       "2                      0.0                       1   \n",
       "3                      3.0                       2   \n",
       "4                      0.0                       1   \n",
       "5                      3.0                       1   \n",
       "6                      1.0                       0   \n",
       "7                      1.0                       1   \n",
       "8                      3.0                       0   \n",
       "9                      1.0                       1   \n",
       "10                     1.0                       1   \n",
       "11                     0.0                       0   \n",
       "12                     3.0                       0   \n",
       "13                     3.0                       0   \n",
       "14                     0.0                       0   \n",
       "\n",
       "    missing_info_en_adj_sentiment  improvements_en_adj_sentiment  \n",
       "0                               1                              1  \n",
       "1                               0                              1  \n",
       "2                               1                              1  \n",
       "3                               1                              1  \n",
       "4                               1                              1  \n",
       "5                               1                              1  \n",
       "6                               1                              1  \n",
       "7                               1                              1  \n",
       "8                               1                              1  \n",
       "9                               1                              1  \n",
       "10                              1                              1  \n",
       "11                              1                              1  \n",
       "12                              1                              0  \n",
       "13                              1                              1  \n",
       "14                              1                              1  "
      ]
     },
     "execution_count": 10,
     "metadata": {},
     "output_type": "execute_result"
    }
   ],
   "source": [
    "df.loc[:, \"missing_info_en_adj_sentiment\"] = df[\"missing_info_en_adj_score\"].apply(lambda x: classify_sentiment(*delimiters_comb, x))\n",
    "df.loc[:, \"improvements_en_adj_sentiment\"] = df[\"improvements_en_adj_score\"].apply(lambda x: classify_sentiment(*delimiters_comb, x))\n",
    "df[['missing_info_sentiment', 'improvements_sentiment', 'missing_info_en_adj_sentiment', 'improvements_en_adj_sentiment']].head(15)"
   ]
  },
  {
   "cell_type": "code",
   "execution_count": 11,
   "metadata": {},
   "outputs": [],
   "source": [
    "def get_accuracy(df):\n",
    "    missing_info_acc = (df[\"missing_info_sentiment\"] == df[\"missing_info_en_adj_sentiment\"]) | (df[\"missing_info_sentiment\"] == 3)\n",
    "    improvements_acc = (df[\"improvements_sentiment\"] == df[\"improvements_en_adj_sentiment\"]) | (df[\"missing_info_sentiment\"] == 3)\n",
    "    return (missing_info_acc.sum() + improvements_acc.sum()) / (df.shape[0]*2)"
   ]
  },
  {
   "cell_type": "code",
   "execution_count": 12,
   "metadata": {},
   "outputs": [
    {
     "data": {
      "text/plain": [
       "0.5902061855670103"
      ]
     },
     "execution_count": 12,
     "metadata": {},
     "output_type": "execute_result"
    }
   ],
   "source": [
    "get_accuracy(df)"
   ]
  },
  {
   "cell_type": "code",
   "execution_count": 13,
   "metadata": {},
   "outputs": [
    {
     "name": "stdout",
     "output_type": "stream",
     "text": [
      "(-10, -9) -> 0.2551546391752577\n",
      "(-10, -8) -> 0.25612113402061853\n",
      "(-10, -7) -> 0.25757087628865977\n",
      "(-10, -6) -> 0.25757087628865977\n",
      "(-10, -5) -> 0.2601481958762887\n",
      "(-10, -4) -> 0.2603092783505155\n",
      "(-10, -3) -> 0.26788015463917525\n",
      "(-10, -2) -> 0.2696520618556701\n",
      "(-10, -1) -> 0.2699742268041237\n",
      "(-10, 1) -> 0.5718427835051546\n",
      "(-10, 2) -> 0.5723260309278351\n",
      "(-10, 3) -> 0.5737757731958762\n",
      "(-10, 4) -> 0.5737757731958762\n",
      "(-10, 5) -> 0.5752255154639175\n",
      "(-10, 6) -> 0.5752255154639175\n",
      "(-10, 7) -> 0.5752255154639175\n",
      "(-10, 8) -> 0.5752255154639175\n",
      "(-10, 9) -> 0.5752255154639175\n",
      "(-9, -8) -> 0.2603092783505155\n",
      "(-9, -7) -> 0.2617590206185567\n",
      "(-9, -6) -> 0.2617590206185567\n",
      "(-9, -5) -> 0.26433634020618557\n",
      "(-9, -4) -> 0.2644974226804124\n",
      "(-9, -3) -> 0.27206829896907214\n",
      "(-9, -2) -> 0.27384020618556704\n",
      "(-9, -1) -> 0.27416237113402064\n",
      "(-9, 1) -> 0.5760309278350515\n",
      "(-9, 2) -> 0.576514175257732\n",
      "(-9, 3) -> 0.5779639175257731\n",
      "(-9, 4) -> 0.5779639175257731\n",
      "(-9, 5) -> 0.5794136597938144\n",
      "(-9, 6) -> 0.5794136597938144\n",
      "(-9, 7) -> 0.5794136597938144\n",
      "(-9, 8) -> 0.5794136597938144\n",
      "(-9, 9) -> 0.5794136597938144\n",
      "(-8, -7) -> 0.26272551546391754\n",
      "(-8, -6) -> 0.26272551546391754\n",
      "(-8, -5) -> 0.2653028350515464\n",
      "(-8, -4) -> 0.2654639175257732\n",
      "(-8, -3) -> 0.27303479381443296\n",
      "(-8, -2) -> 0.27480670103092786\n",
      "(-8, -1) -> 0.27512886597938147\n",
      "(-8, 1) -> 0.5769974226804123\n",
      "(-8, 2) -> 0.5774806701030928\n",
      "(-8, 3) -> 0.5789304123711341\n",
      "(-8, 4) -> 0.5789304123711341\n",
      "(-8, 5) -> 0.5803801546391752\n",
      "(-8, 6) -> 0.5803801546391752\n",
      "(-8, 7) -> 0.5803801546391752\n",
      "(-8, 8) -> 0.5803801546391752\n",
      "(-8, 9) -> 0.5803801546391752\n",
      "(-7, -6) -> 0.26401417525773196\n",
      "(-7, -5) -> 0.2665914948453608\n",
      "(-7, -4) -> 0.2667525773195876\n",
      "(-7, -3) -> 0.27432345360824745\n",
      "(-7, -2) -> 0.2760953608247423\n",
      "(-7, -1) -> 0.2764175257731959\n",
      "(-7, 1) -> 0.5782860824742269\n",
      "(-7, 2) -> 0.5787693298969072\n",
      "(-7, 3) -> 0.5802190721649485\n",
      "(-7, 4) -> 0.5802190721649485\n",
      "(-7, 5) -> 0.5816688144329897\n",
      "(-7, 6) -> 0.5816688144329897\n",
      "(-7, 7) -> 0.5816688144329897\n",
      "(-7, 8) -> 0.5816688144329897\n",
      "(-7, 9) -> 0.5816688144329897\n",
      "(-6, -5) -> 0.27400128865979384\n",
      "(-6, -4) -> 0.27416237113402064\n",
      "(-6, -3) -> 0.2817332474226804\n",
      "(-6, -2) -> 0.28350515463917525\n",
      "(-6, -1) -> 0.28382731958762886\n",
      "(-6, 1) -> 0.5856958762886598\n",
      "(-6, 2) -> 0.5861791237113402\n",
      "(-6, 3) -> 0.5876288659793815\n",
      "(-6, 4) -> 0.5876288659793815\n",
      "(-6, 5) -> 0.5890786082474226\n",
      "(-6, 6) -> 0.5890786082474226\n",
      "(-6, 7) -> 0.5890786082474226\n",
      "(-6, 8) -> 0.5890786082474226\n",
      "(-6, 9) -> 0.5890786082474226\n",
      "(-5, -4) -> 0.27528994845360827\n",
      "(-5, -3) -> 0.28286082474226804\n",
      "(-5, -2) -> 0.2846327319587629\n",
      "(-5, -1) -> 0.2849548969072165\n",
      "(-5, 1) -> 0.5868234536082474\n",
      "(-5, 2) -> 0.5873067010309279\n",
      "(-5, 3) -> 0.588756443298969\n",
      "(-5, 4) -> 0.588756443298969\n",
      "(-5, 5) -> 0.5902061855670103\n",
      "(-5, 6) -> 0.5902061855670103\n",
      "(-5, 7) -> 0.5902061855670103\n",
      "(-5, 8) -> 0.5902061855670103\n",
      "(-5, 9) -> 0.5902061855670103\n",
      "(-4, -3) -> 0.2970360824742268\n",
      "(-4, -2) -> 0.29880798969072164\n",
      "(-4, -1) -> 0.29913015463917525\n",
      "(-4, 1) -> 0.6009987113402062\n",
      "(-4, 2) -> 0.6014819587628866\n",
      "(-4, 3) -> 0.6029317010309279\n",
      "(-4, 4) -> 0.6029317010309279\n",
      "(-4, 5) -> 0.604381443298969\n",
      "(-4, 6) -> 0.604381443298969\n",
      "(-4, 7) -> 0.604381443298969\n",
      "(-4, 8) -> 0.604381443298969\n",
      "(-4, 9) -> 0.604381443298969\n",
      "(-3, -2) -> 0.29913015463917525\n",
      "(-3, -1) -> 0.29945231958762886\n",
      "(-3, 1) -> 0.6013208762886598\n",
      "(-3, 2) -> 0.6018041237113402\n",
      "(-3, 3) -> 0.6032538659793815\n",
      "(-3, 4) -> 0.6032538659793815\n",
      "(-3, 5) -> 0.6047036082474226\n",
      "(-3, 6) -> 0.6047036082474226\n",
      "(-3, 7) -> 0.6047036082474226\n",
      "(-3, 8) -> 0.6047036082474226\n",
      "(-3, 9) -> 0.6047036082474226\n",
      "(-2, -1) -> 0.31491623711340205\n",
      "(-2, 1) -> 0.616784793814433\n",
      "(-2, 2) -> 0.6172680412371134\n",
      "(-2, 3) -> 0.6187177835051546\n",
      "(-2, 4) -> 0.6187177835051546\n",
      "(-2, 5) -> 0.6201675257731959\n",
      "(-2, 6) -> 0.6201675257731959\n",
      "(-2, 7) -> 0.6201675257731959\n",
      "(-2, 8) -> 0.6201675257731959\n",
      "(-2, 9) -> 0.6201675257731959\n",
      "(-1, 1) -> 0.6196842783505154\n",
      "(-1, 2) -> 0.6201675257731959\n",
      "(-1, 3) -> 0.6216172680412371\n",
      "(-1, 4) -> 0.6216172680412371\n",
      "(-1, 5) -> 0.6230670103092784\n",
      "(-1, 6) -> 0.6230670103092784\n",
      "(-1, 7) -> 0.6230670103092784\n",
      "(-1, 8) -> 0.6230670103092784\n",
      "(-1, 9) -> 0.6230670103092784\n",
      "(1, 2) -> 0.6549613402061856\n",
      "(1, 3) -> 0.6564110824742269\n",
      "(1, 4) -> 0.6564110824742269\n",
      "(1, 5) -> 0.657860824742268\n",
      "(1, 6) -> 0.657860824742268\n",
      "(1, 7) -> 0.657860824742268\n",
      "(1, 8) -> 0.657860824742268\n",
      "(1, 9) -> 0.657860824742268\n",
      "(2, 3) -> 0.6567332474226805\n",
      "(2, 4) -> 0.6567332474226805\n",
      "(2, 5) -> 0.6581829896907216\n",
      "(2, 6) -> 0.6581829896907216\n",
      "(2, 7) -> 0.6581829896907216\n",
      "(2, 8) -> 0.6581829896907216\n",
      "(2, 9) -> 0.6581829896907216\n",
      "(3, 4) -> 0.657860824742268\n",
      "(3, 5) -> 0.6593105670103093\n",
      "(3, 6) -> 0.6593105670103093\n",
      "(3, 7) -> 0.6593105670103093\n",
      "(3, 8) -> 0.6593105670103093\n",
      "(3, 9) -> 0.6593105670103093\n",
      "(4, 5) -> 0.6625322164948454\n",
      "(4, 6) -> 0.6625322164948454\n",
      "(4, 7) -> 0.6625322164948454\n",
      "(4, 8) -> 0.6625322164948454\n",
      "(4, 9) -> 0.6625322164948454\n",
      "(5, 6) -> 0.6625322164948454\n",
      "(5, 7) -> 0.6625322164948454\n",
      "(5, 8) -> 0.6625322164948454\n",
      "(5, 9) -> 0.6625322164948454\n",
      "(6, 7) -> 0.6665592783505154\n",
      "(6, 8) -> 0.6665592783505154\n",
      "(6, 9) -> 0.6665592783505154\n",
      "(7, 8) -> 0.6672036082474226\n",
      "(7, 9) -> 0.6672036082474226\n",
      "(8, 9) -> 0.6672036082474226\n"
     ]
    }
   ],
   "source": [
    "for delimiters_comb in delimiters:\n",
    "    df.loc[:, \"missing_info_en_adj_sentiment\"] = df[\"missing_info_en_adj_score\"].apply(lambda x: classify_sentiment(*delimiters_comb, x))\n",
    "    df.loc[:, \"improvements_en_adj_sentiment\"] = df[\"improvements_en_adj_score\"].apply(lambda x: classify_sentiment(*delimiters_comb, x))\n",
    "    print(delimiters_comb, \"->\", get_accuracy(df))"
   ]
  },
  {
   "cell_type": "code",
   "execution_count": 14,
   "metadata": {},
   "outputs": [
    {
     "data": {
      "text/plain": [
       "0.0    1425\n",
       "1.0     914\n",
       "3.0     755\n",
       "2.0      10\n",
       "Name: missing_info_sentiment, dtype: int64"
      ]
     },
     "execution_count": 14,
     "metadata": {},
     "output_type": "execute_result"
    }
   ],
   "source": [
    "df['missing_info_sentiment'].value_counts()"
   ]
  },
  {
   "cell_type": "code",
   "execution_count": 15,
   "metadata": {},
   "outputs": [
    {
     "data": {
      "text/plain": [
       "0    1673\n",
       "1    1361\n",
       "3      37\n",
       "2      33\n",
       "Name: improvements_sentiment, dtype: int64"
      ]
     },
     "execution_count": 15,
     "metadata": {},
     "output_type": "execute_result"
    }
   ],
   "source": [
    "df['improvements_sentiment'].value_counts()"
   ]
  },
  {
   "cell_type": "code",
   "execution_count": 16,
   "metadata": {},
   "outputs": [
    {
     "data": {
      "text/plain": [
       "0    3103\n",
       "1       1\n",
       "Name: missing_info_en_adj_sentiment, dtype: int64"
      ]
     },
     "execution_count": 16,
     "metadata": {},
     "output_type": "execute_result"
    }
   ],
   "source": [
    "df['missing_info_en_adj_sentiment'].value_counts()"
   ]
  },
  {
   "cell_type": "code",
   "execution_count": null,
   "metadata": {},
   "outputs": [],
   "source": []
  }
 ],
 "metadata": {
  "kernelspec": {
   "display_name": "Python 3",
   "language": "python",
   "name": "python3"
  },
  "language_info": {
   "codemirror_mode": {
    "name": "ipython",
    "version": 3
   },
   "file_extension": ".py",
   "mimetype": "text/x-python",
   "name": "python",
   "nbconvert_exporter": "python",
   "pygments_lexer": "ipython3",
   "version": "3.7.6"
  }
 },
 "nbformat": 4,
 "nbformat_minor": 4
}
