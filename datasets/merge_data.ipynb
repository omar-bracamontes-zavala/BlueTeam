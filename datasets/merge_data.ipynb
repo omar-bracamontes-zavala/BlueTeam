{
 "cells": [
  {
   "cell_type": "code",
   "execution_count": 1,
   "metadata": {},
   "outputs": [],
   "source": [
    "import pandas as pd"
   ]
  },
  {
   "cell_type": "code",
   "execution_count": 2,
   "metadata": {},
   "outputs": [],
   "source": [
    "df_en = pd.read_csv(\"english_translated.csv\")"
   ]
  },
  {
   "cell_type": "code",
   "execution_count": 3,
   "metadata": {},
   "outputs": [
    {
     "data": {
      "text/html": [
       "<div>\n",
       "<style scoped>\n",
       "    .dataframe tbody tr th:only-of-type {\n",
       "        vertical-align: middle;\n",
       "    }\n",
       "\n",
       "    .dataframe tbody tr th {\n",
       "        vertical-align: top;\n",
       "    }\n",
       "\n",
       "    .dataframe thead th {\n",
       "        text-align: right;\n",
       "    }\n",
       "</style>\n",
       "<table border=\"1\" class=\"dataframe\">\n",
       "  <thead>\n",
       "    <tr style=\"text-align: right;\">\n",
       "      <th></th>\n",
       "      <th>is_info_useful</th>\n",
       "      <th>missing_info</th>\n",
       "      <th>improvements</th>\n",
       "      <th>date</th>\n",
       "      <th>institution_cat</th>\n",
       "      <th>missing_info_en</th>\n",
       "      <th>improvements_en</th>\n",
       "    </tr>\n",
       "  </thead>\n",
       "  <tbody>\n",
       "    <tr>\n",
       "      <th>0</th>\n",
       "      <td>1</td>\n",
       "      <td>NaN</td>\n",
       "      <td>los documentos se puedan entregar de forma ele...</td>\n",
       "      <td>0</td>\n",
       "      <td>639</td>\n",
       "      <td>NaN</td>\n",
       "      <td>documents can be delivered electronically</td>\n",
       "    </tr>\n",
       "    <tr>\n",
       "      <th>1</th>\n",
       "      <td>0</td>\n",
       "      <td>las citas via internet antes las podia hacer a...</td>\n",
       "      <td>seria mejor el sistema anterior donde se podia...</td>\n",
       "      <td>0</td>\n",
       "      <td>736</td>\n",
       "      <td>I could make appointments via the internet bef...</td>\n",
       "      <td>The previous system where the appointment coul...</td>\n",
       "    </tr>\n",
       "    <tr>\n",
       "      <th>2</th>\n",
       "      <td>1</td>\n",
       "      <td>la informacion de las citas no esta al alcance...</td>\n",
       "      <td>presenten la informacion para hacer citas de f...</td>\n",
       "      <td>0</td>\n",
       "      <td>729</td>\n",
       "      <td>Appointment information is not available, it i...</td>\n",
       "      <td>present the information to make appointments c...</td>\n",
       "    </tr>\n",
       "    <tr>\n",
       "      <th>3</th>\n",
       "      <td>1</td>\n",
       "      <td>NaN</td>\n",
       "      <td>poder agendar cita por internet , eso seria de...</td>\n",
       "      <td>0</td>\n",
       "      <td>722</td>\n",
       "      <td>NaN</td>\n",
       "      <td>being able to schedule an appointment online, ...</td>\n",
       "    </tr>\n",
       "    <tr>\n",
       "      <th>4</th>\n",
       "      <td>0</td>\n",
       "      <td>no se puede agendar la cita para la renovacion...</td>\n",
       "      <td>la pagina esta saturada de informacion que no ...</td>\n",
       "      <td>2</td>\n",
       "      <td>723</td>\n",
       "      <td>you can not schedule the appointment for the r...</td>\n",
       "      <td>The page is saturated with information that is...</td>\n",
       "    </tr>\n",
       "  </tbody>\n",
       "</table>\n",
       "</div>"
      ],
      "text/plain": [
       "   is_info_useful                                       missing_info  \\\n",
       "0               1                                                NaN   \n",
       "1               0  las citas via internet antes las podia hacer a...   \n",
       "2               1  la informacion de las citas no esta al alcance...   \n",
       "3               1                                                NaN   \n",
       "4               0  no se puede agendar la cita para la renovacion...   \n",
       "\n",
       "                                        improvements  date  institution_cat  \\\n",
       "0  los documentos se puedan entregar de forma ele...     0              639   \n",
       "1  seria mejor el sistema anterior donde se podia...     0              736   \n",
       "2  presenten la informacion para hacer citas de f...     0              729   \n",
       "3  poder agendar cita por internet , eso seria de...     0              722   \n",
       "4  la pagina esta saturada de informacion que no ...     2              723   \n",
       "\n",
       "                                     missing_info_en  \\\n",
       "0                                                NaN   \n",
       "1  I could make appointments via the internet bef...   \n",
       "2  Appointment information is not available, it i...   \n",
       "3                                                NaN   \n",
       "4  you can not schedule the appointment for the r...   \n",
       "\n",
       "                                     improvements_en  \n",
       "0          documents can be delivered electronically  \n",
       "1  The previous system where the appointment coul...  \n",
       "2  present the information to make appointments c...  \n",
       "3  being able to schedule an appointment online, ...  \n",
       "4  The page is saturated with information that is...  "
      ]
     },
     "execution_count": 3,
     "metadata": {},
     "output_type": "execute_result"
    }
   ],
   "source": [
    "df_en.head()"
   ]
  },
  {
   "cell_type": "code",
   "execution_count": 22,
   "metadata": {},
   "outputs": [],
   "source": [
    "df_es = pd.read_csv(\"dataset_processed_es.csv\", dtype={\"institution_cat\": int})"
   ]
  },
  {
   "cell_type": "code",
   "execution_count": 23,
   "metadata": {},
   "outputs": [
    {
     "data": {
      "text/html": [
       "<div>\n",
       "<style scoped>\n",
       "    .dataframe tbody tr th:only-of-type {\n",
       "        vertical-align: middle;\n",
       "    }\n",
       "\n",
       "    .dataframe tbody tr th {\n",
       "        vertical-align: top;\n",
       "    }\n",
       "\n",
       "    .dataframe thead th {\n",
       "        text-align: right;\n",
       "    }\n",
       "</style>\n",
       "<table border=\"1\" class=\"dataframe\">\n",
       "  <thead>\n",
       "    <tr style=\"text-align: right;\">\n",
       "      <th></th>\n",
       "      <th>is_info_useful</th>\n",
       "      <th>missing_info</th>\n",
       "      <th>improvements</th>\n",
       "      <th>date</th>\n",
       "      <th>missing_info_sentiment</th>\n",
       "      <th>improvements_sentiment</th>\n",
       "      <th>missing_info_es</th>\n",
       "      <th>improvements_es</th>\n",
       "      <th>institution_cat</th>\n",
       "    </tr>\n",
       "  </thead>\n",
       "  <tbody>\n",
       "    <tr>\n",
       "      <th>0</th>\n",
       "      <td>1</td>\n",
       "      <td>NaN</td>\n",
       "      <td>los documentos se puedan entregar de forma ele...</td>\n",
       "      <td>0</td>\n",
       "      <td>1.0</td>\n",
       "      <td>1</td>\n",
       "      <td>#VALUE!</td>\n",
       "      <td>los documentos se puedan entregar de forma ele...</td>\n",
       "      <td>639</td>\n",
       "    </tr>\n",
       "    <tr>\n",
       "      <th>1</th>\n",
       "      <td>0</td>\n",
       "      <td>las citas via internet antes las podia hacer a...</td>\n",
       "      <td>seria mejor el sistema anterior donde se podia...</td>\n",
       "      <td>0</td>\n",
       "      <td>1.0</td>\n",
       "      <td>1</td>\n",
       "      <td>Las citas via Internet antes las podía hacer a...</td>\n",
       "      <td>Seria mejor el sistema anterior donde se podia...</td>\n",
       "      <td>736</td>\n",
       "    </tr>\n",
       "    <tr>\n",
       "      <th>2</th>\n",
       "      <td>1</td>\n",
       "      <td>la informacion de las citas no esta al alcance...</td>\n",
       "      <td>presenten la informacion para hacer citas de f...</td>\n",
       "      <td>0</td>\n",
       "      <td>0.0</td>\n",
       "      <td>1</td>\n",
       "      <td>LA INFORMACION DE LAS CITAS NO ESTA AL ALCANCE...</td>\n",
       "      <td>PRESENTEN LA INFORMACION PARA HACER CITAS DE F...</td>\n",
       "      <td>729</td>\n",
       "    </tr>\n",
       "    <tr>\n",
       "      <th>3</th>\n",
       "      <td>1</td>\n",
       "      <td>NaN</td>\n",
       "      <td>poder agendar cita por internet , eso seria de...</td>\n",
       "      <td>0</td>\n",
       "      <td>1.0</td>\n",
       "      <td>2</td>\n",
       "      <td>#VALUE!</td>\n",
       "      <td>Poder agendar cita por Internet , eso sería de...</td>\n",
       "      <td>722</td>\n",
       "    </tr>\n",
       "    <tr>\n",
       "      <th>4</th>\n",
       "      <td>0</td>\n",
       "      <td>no se puede agendar la cita para la renovacion...</td>\n",
       "      <td>la pagina esta saturada de informacion que no ...</td>\n",
       "      <td>2</td>\n",
       "      <td>0.0</td>\n",
       "      <td>1</td>\n",
       "      <td>no se puede agendar la cita para la renovacion...</td>\n",
       "      <td>la pagina esta saturada de informacion que no ...</td>\n",
       "      <td>723</td>\n",
       "    </tr>\n",
       "  </tbody>\n",
       "</table>\n",
       "</div>"
      ],
      "text/plain": [
       "   is_info_useful                                       missing_info  \\\n",
       "0               1                                                NaN   \n",
       "1               0  las citas via internet antes las podia hacer a...   \n",
       "2               1  la informacion de las citas no esta al alcance...   \n",
       "3               1                                                NaN   \n",
       "4               0  no se puede agendar la cita para la renovacion...   \n",
       "\n",
       "                                        improvements  date  \\\n",
       "0  los documentos se puedan entregar de forma ele...     0   \n",
       "1  seria mejor el sistema anterior donde se podia...     0   \n",
       "2  presenten la informacion para hacer citas de f...     0   \n",
       "3  poder agendar cita por internet , eso seria de...     0   \n",
       "4  la pagina esta saturada de informacion que no ...     2   \n",
       "\n",
       "   missing_info_sentiment improvements_sentiment  \\\n",
       "0                     1.0                      1   \n",
       "1                     1.0                      1   \n",
       "2                     0.0                      1   \n",
       "3                     1.0                      2   \n",
       "4                     0.0                      1   \n",
       "\n",
       "                                     missing_info_es  \\\n",
       "0                                            #VALUE!   \n",
       "1  Las citas via Internet antes las podía hacer a...   \n",
       "2  LA INFORMACION DE LAS CITAS NO ESTA AL ALCANCE...   \n",
       "3                                            #VALUE!   \n",
       "4  no se puede agendar la cita para la renovacion...   \n",
       "\n",
       "                                     improvements_es  institution_cat  \n",
       "0  los documentos se puedan entregar de forma ele...              639  \n",
       "1  Seria mejor el sistema anterior donde se podia...              736  \n",
       "2  PRESENTEN LA INFORMACION PARA HACER CITAS DE F...              729  \n",
       "3  Poder agendar cita por Internet , eso sería de...              722  \n",
       "4  la pagina esta saturada de informacion que no ...              723  "
      ]
     },
     "execution_count": 23,
     "metadata": {},
     "output_type": "execute_result"
    }
   ],
   "source": [
    "df_es.head()"
   ]
  },
  {
   "cell_type": "code",
   "execution_count": 24,
   "metadata": {},
   "outputs": [],
   "source": [
    "df_es[\"key\"] = df_es[\"is_info_useful\"].astype(str) + df_es[\"missing_info\"].astype(str) + df_es[\"improvements\"].astype(str) + df_es[\"date\"].astype(str) + df_es[\"institution_cat\"].astype(str)"
   ]
  },
  {
   "cell_type": "code",
   "execution_count": 25,
   "metadata": {},
   "outputs": [
    {
     "data": {
      "text/plain": [
       "'1nanlos documentos se puedan entregar de forma electronica0639'"
      ]
     },
     "execution_count": 25,
     "metadata": {},
     "output_type": "execute_result"
    }
   ],
   "source": [
    "df_es.loc[0, \"key\"]"
   ]
  },
  {
   "cell_type": "code",
   "execution_count": 26,
   "metadata": {},
   "outputs": [],
   "source": [
    "df_en[\"key\"] = df_en[\"is_info_useful\"].astype(str) + df_en[\"missing_info\"].astype(str) + df_en[\"improvements\"].astype(str) + df_en[\"date\"].astype(str) + df_en[\"institution_cat\"].astype(str)"
   ]
  },
  {
   "cell_type": "code",
   "execution_count": 27,
   "metadata": {},
   "outputs": [
    {
     "data": {
      "text/plain": [
       "'1nanlos documentos se puedan entregar de forma electronica0639'"
      ]
     },
     "execution_count": 27,
     "metadata": {},
     "output_type": "execute_result"
    }
   ],
   "source": [
    "df_en.loc[0, \"key\"]"
   ]
  },
  {
   "cell_type": "code",
   "execution_count": 28,
   "metadata": {},
   "outputs": [
    {
     "data": {
      "text/plain": [
       "True"
      ]
     },
     "execution_count": 28,
     "metadata": {},
     "output_type": "execute_result"
    }
   ],
   "source": [
    "df_en.loc[0, \"key\"] == df_es.loc[0, \"key\"]"
   ]
  },
  {
   "cell_type": "code",
   "execution_count": 43,
   "metadata": {},
   "outputs": [
    {
     "data": {
      "text/plain": [
       "2"
      ]
     },
     "execution_count": 43,
     "metadata": {},
     "output_type": "execute_result"
    }
   ],
   "source": [
    "df_es[\"key\"].duplicated().sum()"
   ]
  },
  {
   "cell_type": "code",
   "execution_count": 31,
   "metadata": {},
   "outputs": [
    {
     "data": {
      "text/plain": [
       "0"
      ]
     },
     "execution_count": 31,
     "metadata": {},
     "output_type": "execute_result"
    }
   ],
   "source": [
    "df_en[\"key\"].duplicated().sum()"
   ]
  },
  {
   "cell_type": "code",
   "execution_count": 44,
   "metadata": {},
   "outputs": [
    {
     "data": {
      "text/html": [
       "<div>\n",
       "<style scoped>\n",
       "    .dataframe tbody tr th:only-of-type {\n",
       "        vertical-align: middle;\n",
       "    }\n",
       "\n",
       "    .dataframe tbody tr th {\n",
       "        vertical-align: top;\n",
       "    }\n",
       "\n",
       "    .dataframe thead th {\n",
       "        text-align: right;\n",
       "    }\n",
       "</style>\n",
       "<table border=\"1\" class=\"dataframe\">\n",
       "  <thead>\n",
       "    <tr style=\"text-align: right;\">\n",
       "      <th></th>\n",
       "      <th>is_info_useful</th>\n",
       "      <th>missing_info</th>\n",
       "      <th>improvements</th>\n",
       "      <th>date</th>\n",
       "      <th>missing_info_sentiment</th>\n",
       "      <th>improvements_sentiment</th>\n",
       "      <th>missing_info_es</th>\n",
       "      <th>improvements_es</th>\n",
       "      <th>institution_cat</th>\n",
       "      <th>key</th>\n",
       "    </tr>\n",
       "  </thead>\n",
       "  <tbody>\n",
       "    <tr>\n",
       "      <th>5420</th>\n",
       "      <td>1</td>\n",
       "      <td>en donde se puede revisar el estatus de la sol...</td>\n",
       "      <td>1.- ya no se visualiza el apartado para solici...</td>\n",
       "      <td>457</td>\n",
       "      <td>1.0</td>\n",
       "      <td>0</td>\n",
       "      <td>en dónde se puede revisar el estatus de la sol...</td>\n",
       "      <td>1.- Ya no se visualiza el apartado para solici...</td>\n",
       "      <td>87</td>\n",
       "      <td>1en donde se puede revisar el estatus de la so...</td>\n",
       "    </tr>\n",
       "    <tr>\n",
       "      <th>6073</th>\n",
       "      <td>0</td>\n",
       "      <td>como descargarla via internet, como se podia h...</td>\n",
       "      <td>volver a activar la descarga por internet</td>\n",
       "      <td>495</td>\n",
       "      <td>1.0</td>\n",
       "      <td>2</td>\n",
       "      <td>Como descargarla vía internet, como se podía h...</td>\n",
       "      <td>Volver a activar la descarga por internet</td>\n",
       "      <td>84</td>\n",
       "      <td>0como descargarla via internet, como se podia ...</td>\n",
       "    </tr>\n",
       "  </tbody>\n",
       "</table>\n",
       "</div>"
      ],
      "text/plain": [
       "      is_info_useful                                       missing_info  \\\n",
       "5420               1  en donde se puede revisar el estatus de la sol...   \n",
       "6073               0  como descargarla via internet, como se podia h...   \n",
       "\n",
       "                                           improvements  date  \\\n",
       "5420  1.- ya no se visualiza el apartado para solici...   457   \n",
       "6073          volver a activar la descarga por internet   495   \n",
       "\n",
       "      missing_info_sentiment improvements_sentiment  \\\n",
       "5420                     1.0                      0   \n",
       "6073                     1.0                      2   \n",
       "\n",
       "                                        missing_info_es  \\\n",
       "5420  en dónde se puede revisar el estatus de la sol...   \n",
       "6073  Como descargarla vía internet, como se podía h...   \n",
       "\n",
       "                                        improvements_es  institution_cat  \\\n",
       "5420  1.- Ya no se visualiza el apartado para solici...               87   \n",
       "6073          Volver a activar la descarga por internet               84   \n",
       "\n",
       "                                                    key  \n",
       "5420  1en donde se puede revisar el estatus de la so...  \n",
       "6073  0como descargarla via internet, como se podia ...  "
      ]
     },
     "execution_count": 44,
     "metadata": {},
     "output_type": "execute_result"
    }
   ],
   "source": [
    "df_es[df_es[\"key\"].duplicated()]"
   ]
  },
  {
   "cell_type": "code",
   "execution_count": 45,
   "metadata": {},
   "outputs": [
    {
     "data": {
      "text/html": [
       "<div>\n",
       "<style scoped>\n",
       "    .dataframe tbody tr th:only-of-type {\n",
       "        vertical-align: middle;\n",
       "    }\n",
       "\n",
       "    .dataframe tbody tr th {\n",
       "        vertical-align: top;\n",
       "    }\n",
       "\n",
       "    .dataframe thead th {\n",
       "        text-align: right;\n",
       "    }\n",
       "</style>\n",
       "<table border=\"1\" class=\"dataframe\">\n",
       "  <thead>\n",
       "    <tr style=\"text-align: right;\">\n",
       "      <th></th>\n",
       "      <th>is_info_useful</th>\n",
       "      <th>missing_info</th>\n",
       "      <th>improvements</th>\n",
       "      <th>date</th>\n",
       "      <th>missing_info_sentiment</th>\n",
       "      <th>improvements_sentiment</th>\n",
       "      <th>missing_info_es</th>\n",
       "      <th>improvements_es</th>\n",
       "      <th>institution_cat</th>\n",
       "      <th>key</th>\n",
       "    </tr>\n",
       "  </thead>\n",
       "  <tbody>\n",
       "    <tr>\n",
       "      <th>5418</th>\n",
       "      <td>1</td>\n",
       "      <td>en donde se puede revisar el estatus de la sol...</td>\n",
       "      <td>1.- ya no se visualiza el apartado para solici...</td>\n",
       "      <td>457</td>\n",
       "      <td>0.0</td>\n",
       "      <td>0</td>\n",
       "      <td>en dónde se puede revisar el estatus de la sol...</td>\n",
       "      <td>1.- Ya no se visualiza el apartado para solici...</td>\n",
       "      <td>87</td>\n",
       "      <td>1en donde se puede revisar el estatus de la so...</td>\n",
       "    </tr>\n",
       "    <tr>\n",
       "      <th>5420</th>\n",
       "      <td>1</td>\n",
       "      <td>en donde se puede revisar el estatus de la sol...</td>\n",
       "      <td>1.- ya no se visualiza el apartado para solici...</td>\n",
       "      <td>457</td>\n",
       "      <td>1.0</td>\n",
       "      <td>0</td>\n",
       "      <td>en dónde se puede revisar el estatus de la sol...</td>\n",
       "      <td>1.- Ya no se visualiza el apartado para solici...</td>\n",
       "      <td>87</td>\n",
       "      <td>1en donde se puede revisar el estatus de la so...</td>\n",
       "    </tr>\n",
       "  </tbody>\n",
       "</table>\n",
       "</div>"
      ],
      "text/plain": [
       "      is_info_useful                                       missing_info  \\\n",
       "5418               1  en donde se puede revisar el estatus de la sol...   \n",
       "5420               1  en donde se puede revisar el estatus de la sol...   \n",
       "\n",
       "                                           improvements  date  \\\n",
       "5418  1.- ya no se visualiza el apartado para solici...   457   \n",
       "5420  1.- ya no se visualiza el apartado para solici...   457   \n",
       "\n",
       "      missing_info_sentiment improvements_sentiment  \\\n",
       "5418                     0.0                      0   \n",
       "5420                     1.0                      0   \n",
       "\n",
       "                                        missing_info_es  \\\n",
       "5418  en dónde se puede revisar el estatus de la sol...   \n",
       "5420  en dónde se puede revisar el estatus de la sol...   \n",
       "\n",
       "                                        improvements_es  institution_cat  \\\n",
       "5418  1.- Ya no se visualiza el apartado para solici...               87   \n",
       "5420  1.- Ya no se visualiza el apartado para solici...               87   \n",
       "\n",
       "                                                    key  \n",
       "5418  1en donde se puede revisar el estatus de la so...  \n",
       "5420  1en donde se puede revisar el estatus de la so...  "
      ]
     },
     "execution_count": 45,
     "metadata": {},
     "output_type": "execute_result"
    }
   ],
   "source": [
    "df_es[df_es[\"missing_info\"].str.contains(\"en donde se puede revisar el estatus de la sol\")==True]"
   ]
  },
  {
   "cell_type": "code",
   "execution_count": 46,
   "metadata": {},
   "outputs": [
    {
     "data": {
      "text/html": [
       "<div>\n",
       "<style scoped>\n",
       "    .dataframe tbody tr th:only-of-type {\n",
       "        vertical-align: middle;\n",
       "    }\n",
       "\n",
       "    .dataframe tbody tr th {\n",
       "        vertical-align: top;\n",
       "    }\n",
       "\n",
       "    .dataframe thead th {\n",
       "        text-align: right;\n",
       "    }\n",
       "</style>\n",
       "<table border=\"1\" class=\"dataframe\">\n",
       "  <thead>\n",
       "    <tr style=\"text-align: right;\">\n",
       "      <th></th>\n",
       "      <th>is_info_useful</th>\n",
       "      <th>missing_info</th>\n",
       "      <th>improvements</th>\n",
       "      <th>date</th>\n",
       "      <th>missing_info_sentiment</th>\n",
       "      <th>improvements_sentiment</th>\n",
       "      <th>missing_info_es</th>\n",
       "      <th>improvements_es</th>\n",
       "      <th>institution_cat</th>\n",
       "      <th>key</th>\n",
       "    </tr>\n",
       "  </thead>\n",
       "  <tbody>\n",
       "    <tr>\n",
       "      <th>6072</th>\n",
       "      <td>0</td>\n",
       "      <td>como descargarla via internet, como se podia h...</td>\n",
       "      <td>volver a activar la descarga por internet</td>\n",
       "      <td>495</td>\n",
       "      <td>1.0</td>\n",
       "      <td>1</td>\n",
       "      <td>Como descargarla vía internet, como se podía h...</td>\n",
       "      <td>Volver a activar la descarga por internet</td>\n",
       "      <td>84</td>\n",
       "      <td>0como descargarla via internet, como se podia ...</td>\n",
       "    </tr>\n",
       "    <tr>\n",
       "      <th>6073</th>\n",
       "      <td>0</td>\n",
       "      <td>como descargarla via internet, como se podia h...</td>\n",
       "      <td>volver a activar la descarga por internet</td>\n",
       "      <td>495</td>\n",
       "      <td>1.0</td>\n",
       "      <td>2</td>\n",
       "      <td>Como descargarla vía internet, como se podía h...</td>\n",
       "      <td>Volver a activar la descarga por internet</td>\n",
       "      <td>84</td>\n",
       "      <td>0como descargarla via internet, como se podia ...</td>\n",
       "    </tr>\n",
       "  </tbody>\n",
       "</table>\n",
       "</div>"
      ],
      "text/plain": [
       "      is_info_useful                                       missing_info  \\\n",
       "6072               0  como descargarla via internet, como se podia h...   \n",
       "6073               0  como descargarla via internet, como se podia h...   \n",
       "\n",
       "                                   improvements  date  missing_info_sentiment  \\\n",
       "6072  volver a activar la descarga por internet   495                     1.0   \n",
       "6073  volver a activar la descarga por internet   495                     1.0   \n",
       "\n",
       "     improvements_sentiment  \\\n",
       "6072                      1   \n",
       "6073                      2   \n",
       "\n",
       "                                        missing_info_es  \\\n",
       "6072  Como descargarla vía internet, como se podía h...   \n",
       "6073  Como descargarla vía internet, como se podía h...   \n",
       "\n",
       "                                improvements_es  institution_cat  \\\n",
       "6072  Volver a activar la descarga por internet               84   \n",
       "6073  Volver a activar la descarga por internet               84   \n",
       "\n",
       "                                                    key  \n",
       "6072  0como descargarla via internet, como se podia ...  \n",
       "6073  0como descargarla via internet, como se podia ...  "
      ]
     },
     "execution_count": 46,
     "metadata": {},
     "output_type": "execute_result"
    }
   ],
   "source": [
    "df_es[df_es[\"missing_info\"].str.contains(\"como descargarla via internet, como se podia h\")==True]"
   ]
  },
  {
   "cell_type": "code",
   "execution_count": 47,
   "metadata": {},
   "outputs": [
    {
     "data": {
      "text/plain": [
       "'en donde se puede revisar el estatus de la solicitud que realice por internet?'"
      ]
     },
     "execution_count": 47,
     "metadata": {},
     "output_type": "execute_result"
    }
   ],
   "source": [
    "df_es.loc[5418, \"missing_info\"]"
   ]
  },
  {
   "cell_type": "code",
   "execution_count": 48,
   "metadata": {},
   "outputs": [],
   "source": [
    "# El comentario es neutro porque borraré este renglon que dice que es negativo\n",
    "df_es.drop([5418], inplace=True)\n",
    "# El comentario no es positivo\n",
    "df_es.drop([6073], inplace=True)"
   ]
  },
  {
   "cell_type": "code",
   "execution_count": 50,
   "metadata": {},
   "outputs": [
    {
     "data": {
      "text/plain": [
       "0"
      ]
     },
     "execution_count": 50,
     "metadata": {},
     "output_type": "execute_result"
    }
   ],
   "source": [
    "df_es[\"key\"].duplicated().sum()"
   ]
  },
  {
   "cell_type": "code",
   "execution_count": 51,
   "metadata": {},
   "outputs": [
    {
     "data": {
      "text/plain": [
       "6738"
      ]
     },
     "execution_count": 51,
     "metadata": {},
     "output_type": "execute_result"
    }
   ],
   "source": [
    "df_es.shape[0]"
   ]
  },
  {
   "cell_type": "code",
   "execution_count": 52,
   "metadata": {},
   "outputs": [
    {
     "data": {
      "text/plain": [
       "6744"
      ]
     },
     "execution_count": 52,
     "metadata": {},
     "output_type": "execute_result"
    }
   ],
   "source": [
    "df_en.shape[0]"
   ]
  },
  {
   "cell_type": "code",
   "execution_count": 55,
   "metadata": {},
   "outputs": [
    {
     "data": {
      "text/plain": [
       "32"
      ]
     },
     "execution_count": 55,
     "metadata": {},
     "output_type": "execute_result"
    }
   ],
   "source": [
    "len(set(df_en[\"key\"]) - set(df_es[\"key\"]))"
   ]
  },
  {
   "cell_type": "code",
   "execution_count": 56,
   "metadata": {},
   "outputs": [
    {
     "data": {
      "text/plain": [
       "26"
      ]
     },
     "execution_count": 56,
     "metadata": {},
     "output_type": "execute_result"
    }
   ],
   "source": [
    " len(set(df_es[\"key\"]) - set(df_en[\"key\"]))"
   ]
  },
  {
   "cell_type": "code",
   "execution_count": null,
   "metadata": {},
   "outputs": [],
   "source": [
    "wwwc"
   ]
  }
 ],
 "metadata": {
  "kernelspec": {
   "display_name": "Python 3",
   "language": "python",
   "name": "python3"
  },
  "language_info": {
   "codemirror_mode": {
    "name": "ipython",
    "version": 3
   },
   "file_extension": ".py",
   "mimetype": "text/x-python",
   "name": "python",
   "nbconvert_exporter": "python",
   "pygments_lexer": "ipython3",
   "version": "3.7.6"
  }
 },
 "nbformat": 4,
 "nbformat_minor": 4
}
